{
 "cells": [
  {
   "cell_type": "code",
   "execution_count": 25,
   "metadata": {},
   "outputs": [],
   "source": [
    "import pandas as pd\n"
   ]
  },
  {
   "cell_type": "code",
   "execution_count": 26,
   "metadata": {},
   "outputs": [],
   "source": [
    "df = pd.read_excel('apartment_00.xlsx')"
   ]
  },
  {
   "cell_type": "code",
   "execution_count": 27,
   "metadata": {},
   "outputs": [
    {
     "data": {
      "text/html": [
       "<div>\n",
       "<style scoped>\n",
       "    .dataframe tbody tr th:only-of-type {\n",
       "        vertical-align: middle;\n",
       "    }\n",
       "\n",
       "    .dataframe tbody tr th {\n",
       "        vertical-align: top;\n",
       "    }\n",
       "\n",
       "    .dataframe thead th {\n",
       "        text-align: right;\n",
       "    }\n",
       "</style>\n",
       "<table border=\"1\" class=\"dataframe\">\n",
       "  <thead>\n",
       "    <tr style=\"text-align: right;\">\n",
       "      <th></th>\n",
       "      <th>Unnamed: 0</th>\n",
       "      <th>0</th>\n",
       "      <th>1</th>\n",
       "      <th>2</th>\n",
       "      <th>3</th>\n",
       "    </tr>\n",
       "  </thead>\n",
       "  <tbody>\n",
       "    <tr>\n",
       "      <th>0</th>\n",
       "      <td>title</td>\n",
       "      <td>['3 BHK Apartment', 'Apartment4 BHK ', 'BHK Ap...</td>\n",
       "      <td>['1 BHK Apartment', 'Apartment1 BHK ', 'BHK Ap...</td>\n",
       "      <td>['2 BHK Apartment', 'Apartment1 BHK ', 'BHK Ap...</td>\n",
       "      <td>['2 BHK Apartment', 'Apartment2 BHK ', 'BHK Ap...</td>\n",
       "    </tr>\n",
       "    <tr>\n",
       "      <th>1</th>\n",
       "      <td>price</td>\n",
       "      <td>['2.5', '2.25', '11,000', '14,000', '16,000', ...</td>\n",
       "      <td>['5,500', '8,000', '19,000', '7,000', '11,000'...</td>\n",
       "      <td>['12,000', '11,000', '9,000', '10,000', '5,500...</td>\n",
       "      <td>['20,000', '7,500', '13,500', '5,500', '5,600'...</td>\n",
       "    </tr>\n",
       "    <tr>\n",
       "      <th>2</th>\n",
       "      <td>area</td>\n",
       "      <td>['2000 ', '3150 ', '1100 ', '1200 ', '1500 ', ...</td>\n",
       "      <td>['625 ', '600 ', '1815 ', '1030 ', '1187 ', '9...</td>\n",
       "      <td>['1200 ', '1000 ', '950 ', '870 ', '950 ', '52...</td>\n",
       "      <td>['1500 ', '900 ', '1200 ', '950 ', '600 ', '86...</td>\n",
       "    </tr>\n",
       "    <tr>\n",
       "      <th>3</th>\n",
       "      <td>owner_name</td>\n",
       "      <td>['Brickhouse Realty Solutions', 'HR Associates...</td>\n",
       "      <td>['G kumawat', 'shubh', 'Total Realty Solutions...</td>\n",
       "      <td>['VIVEK', 'navya associat', 'MATOSHREE REALTY'...</td>\n",
       "      <td>['Virendra Property Consultant', 'Shiwanshu', ...</td>\n",
       "    </tr>\n",
       "    <tr>\n",
       "      <th>4</th>\n",
       "      <td>address</td>\n",
       "      <td>['Chanakyapuri', 'Chanakyapuri', 'Lokmanya Nag...</td>\n",
       "      <td>['Bhicholi Mardana', 'Scheme Number 136', 'Mah...</td>\n",
       "      <td>['Vijay Nagar', 'Mahalaxmi Nagar Colony', 'Vig...</td>\n",
       "      <td>['Vijay Nagar', 'Manawata Nagar', 'Navlakha', ...</td>\n",
       "    </tr>\n",
       "  </tbody>\n",
       "</table>\n",
       "</div>"
      ],
      "text/plain": [
       "   Unnamed: 0                                                  0  \\\n",
       "0       title  ['3 BHK Apartment', 'Apartment4 BHK ', 'BHK Ap...   \n",
       "1       price  ['2.5', '2.25', '11,000', '14,000', '16,000', ...   \n",
       "2        area  ['2000 ', '3150 ', '1100 ', '1200 ', '1500 ', ...   \n",
       "3  owner_name  ['Brickhouse Realty Solutions', 'HR Associates...   \n",
       "4     address  ['Chanakyapuri', 'Chanakyapuri', 'Lokmanya Nag...   \n",
       "\n",
       "                                                   1  \\\n",
       "0  ['1 BHK Apartment', 'Apartment1 BHK ', 'BHK Ap...   \n",
       "1  ['5,500', '8,000', '19,000', '7,000', '11,000'...   \n",
       "2  ['625 ', '600 ', '1815 ', '1030 ', '1187 ', '9...   \n",
       "3  ['G kumawat', 'shubh', 'Total Realty Solutions...   \n",
       "4  ['Bhicholi Mardana', 'Scheme Number 136', 'Mah...   \n",
       "\n",
       "                                                   2  \\\n",
       "0  ['2 BHK Apartment', 'Apartment1 BHK ', 'BHK Ap...   \n",
       "1  ['12,000', '11,000', '9,000', '10,000', '5,500...   \n",
       "2  ['1200 ', '1000 ', '950 ', '870 ', '950 ', '52...   \n",
       "3  ['VIVEK', 'navya associat', 'MATOSHREE REALTY'...   \n",
       "4  ['Vijay Nagar', 'Mahalaxmi Nagar Colony', 'Vig...   \n",
       "\n",
       "                                                   3  \n",
       "0  ['2 BHK Apartment', 'Apartment2 BHK ', 'BHK Ap...  \n",
       "1  ['20,000', '7,500', '13,500', '5,500', '5,600'...  \n",
       "2  ['1500 ', '900 ', '1200 ', '950 ', '600 ', '86...  \n",
       "3  ['Virendra Property Consultant', 'Shiwanshu', ...  \n",
       "4  ['Vijay Nagar', 'Manawata Nagar', 'Navlakha', ...  "
      ]
     },
     "execution_count": 27,
     "metadata": {},
     "output_type": "execute_result"
    }
   ],
   "source": [
    "df.head()"
   ]
  },
  {
   "cell_type": "code",
   "execution_count": 28,
   "metadata": {},
   "outputs": [
    {
     "data": {
      "text/plain": [
       "Index(['Unnamed: 0', 0, 1, 2, 3], dtype='object')"
      ]
     },
     "execution_count": 28,
     "metadata": {},
     "output_type": "execute_result"
    }
   ],
   "source": [
    "df.columns"
   ]
  },
  {
   "cell_type": "code",
   "execution_count": 29,
   "metadata": {},
   "outputs": [],
   "source": [
    "df = df.transpose()"
   ]
  },
  {
   "cell_type": "code",
   "execution_count": 30,
   "metadata": {},
   "outputs": [
    {
     "data": {
      "text/html": [
       "<div>\n",
       "<style scoped>\n",
       "    .dataframe tbody tr th:only-of-type {\n",
       "        vertical-align: middle;\n",
       "    }\n",
       "\n",
       "    .dataframe tbody tr th {\n",
       "        vertical-align: top;\n",
       "    }\n",
       "\n",
       "    .dataframe thead th {\n",
       "        text-align: right;\n",
       "    }\n",
       "</style>\n",
       "<table border=\"1\" class=\"dataframe\">\n",
       "  <thead>\n",
       "    <tr style=\"text-align: right;\">\n",
       "      <th></th>\n",
       "      <th>0</th>\n",
       "      <th>1</th>\n",
       "      <th>2</th>\n",
       "      <th>3</th>\n",
       "      <th>4</th>\n",
       "    </tr>\n",
       "  </thead>\n",
       "  <tbody>\n",
       "    <tr>\n",
       "      <th>Unnamed: 0</th>\n",
       "      <td>title</td>\n",
       "      <td>price</td>\n",
       "      <td>area</td>\n",
       "      <td>owner_name</td>\n",
       "      <td>address</td>\n",
       "    </tr>\n",
       "    <tr>\n",
       "      <th>0</th>\n",
       "      <td>['3 BHK Apartment', 'Apartment4 BHK ', 'BHK Ap...</td>\n",
       "      <td>['2.5', '2.25', '11,000', '14,000', '16,000', ...</td>\n",
       "      <td>['2000 ', '3150 ', '1100 ', '1200 ', '1500 ', ...</td>\n",
       "      <td>['Brickhouse Realty Solutions', 'HR Associates...</td>\n",
       "      <td>['Chanakyapuri', 'Chanakyapuri', 'Lokmanya Nag...</td>\n",
       "    </tr>\n",
       "    <tr>\n",
       "      <th>1</th>\n",
       "      <td>['1 BHK Apartment', 'Apartment1 BHK ', 'BHK Ap...</td>\n",
       "      <td>['5,500', '8,000', '19,000', '7,000', '11,000'...</td>\n",
       "      <td>['625 ', '600 ', '1815 ', '1030 ', '1187 ', '9...</td>\n",
       "      <td>['G kumawat', 'shubh', 'Total Realty Solutions...</td>\n",
       "      <td>['Bhicholi Mardana', 'Scheme Number 136', 'Mah...</td>\n",
       "    </tr>\n",
       "    <tr>\n",
       "      <th>2</th>\n",
       "      <td>['2 BHK Apartment', 'Apartment1 BHK ', 'BHK Ap...</td>\n",
       "      <td>['12,000', '11,000', '9,000', '10,000', '5,500...</td>\n",
       "      <td>['1200 ', '1000 ', '950 ', '870 ', '950 ', '52...</td>\n",
       "      <td>['VIVEK', 'navya associat', 'MATOSHREE REALTY'...</td>\n",
       "      <td>['Vijay Nagar', 'Mahalaxmi Nagar Colony', 'Vig...</td>\n",
       "    </tr>\n",
       "    <tr>\n",
       "      <th>3</th>\n",
       "      <td>['2 BHK Apartment', 'Apartment2 BHK ', 'BHK Ap...</td>\n",
       "      <td>['20,000', '7,500', '13,500', '5,500', '5,600'...</td>\n",
       "      <td>['1500 ', '900 ', '1200 ', '950 ', '600 ', '86...</td>\n",
       "      <td>['Virendra Property Consultant', 'Shiwanshu', ...</td>\n",
       "      <td>['Vijay Nagar', 'Manawata Nagar', 'Navlakha', ...</td>\n",
       "    </tr>\n",
       "  </tbody>\n",
       "</table>\n",
       "</div>"
      ],
      "text/plain": [
       "                                                            0  \\\n",
       "Unnamed: 0                                              title   \n",
       "0           ['3 BHK Apartment', 'Apartment4 BHK ', 'BHK Ap...   \n",
       "1           ['1 BHK Apartment', 'Apartment1 BHK ', 'BHK Ap...   \n",
       "2           ['2 BHK Apartment', 'Apartment1 BHK ', 'BHK Ap...   \n",
       "3           ['2 BHK Apartment', 'Apartment2 BHK ', 'BHK Ap...   \n",
       "\n",
       "                                                            1  \\\n",
       "Unnamed: 0                                              price   \n",
       "0           ['2.5', '2.25', '11,000', '14,000', '16,000', ...   \n",
       "1           ['5,500', '8,000', '19,000', '7,000', '11,000'...   \n",
       "2           ['12,000', '11,000', '9,000', '10,000', '5,500...   \n",
       "3           ['20,000', '7,500', '13,500', '5,500', '5,600'...   \n",
       "\n",
       "                                                            2  \\\n",
       "Unnamed: 0                                               area   \n",
       "0           ['2000 ', '3150 ', '1100 ', '1200 ', '1500 ', ...   \n",
       "1           ['625 ', '600 ', '1815 ', '1030 ', '1187 ', '9...   \n",
       "2           ['1200 ', '1000 ', '950 ', '870 ', '950 ', '52...   \n",
       "3           ['1500 ', '900 ', '1200 ', '950 ', '600 ', '86...   \n",
       "\n",
       "                                                            3  \\\n",
       "Unnamed: 0                                         owner_name   \n",
       "0           ['Brickhouse Realty Solutions', 'HR Associates...   \n",
       "1           ['G kumawat', 'shubh', 'Total Realty Solutions...   \n",
       "2           ['VIVEK', 'navya associat', 'MATOSHREE REALTY'...   \n",
       "3           ['Virendra Property Consultant', 'Shiwanshu', ...   \n",
       "\n",
       "                                                            4  \n",
       "Unnamed: 0                                            address  \n",
       "0           ['Chanakyapuri', 'Chanakyapuri', 'Lokmanya Nag...  \n",
       "1           ['Bhicholi Mardana', 'Scheme Number 136', 'Mah...  \n",
       "2           ['Vijay Nagar', 'Mahalaxmi Nagar Colony', 'Vig...  \n",
       "3           ['Vijay Nagar', 'Manawata Nagar', 'Navlakha', ...  "
      ]
     },
     "execution_count": 30,
     "metadata": {},
     "output_type": "execute_result"
    }
   ],
   "source": [
    "df.head()"
   ]
  },
  {
   "cell_type": "code",
   "execution_count": 94,
   "metadata": {},
   "outputs": [],
   "source": [
    "Title, Price, Area, Owner_name, Address = [],[],[],[],[]"
   ]
  },
  {
   "cell_type": "code",
   "execution_count": 107,
   "metadata": {},
   "outputs": [],
   "source": [
    "for i in range(1): \n",
    "    for j in range(5): \n",
    "        Title.append(df[i])\n",
    "\n",
    "for i in range(1,2): \n",
    "    for j in range(5): \n",
    "        Price.append(df[j])\n",
    "        \n",
    "\n",
    "for i in range(2,3): \n",
    "    for j in range(5): \n",
    "        Area.append(df[j])\n",
    "\n",
    "for i in range(3,4): \n",
    "    for j in range(5): \n",
    "        Owner_name.append(df[j])\n",
    "\n",
    "for i in range(4,5): \n",
    "    for j in range(5): \n",
    "        Address.append(df[j])\n"
   ]
  },
  {
   "cell_type": "code",
   "execution_count": 106,
   "metadata": {},
   "outputs": [
    {
     "data": {
      "text/plain": [
       "Unnamed: 0                                                title\n",
       "0             ['3 BHK Apartment', 'Apartment4 BHK ', 'BHK Ap...\n",
       "1             ['1 BHK Apartment', 'Apartment1 BHK ', 'BHK Ap...\n",
       "2             ['2 BHK Apartment', 'Apartment1 BHK ', 'BHK Ap...\n",
       "3             ['2 BHK Apartment', 'Apartment2 BHK ', 'BHK Ap...\n",
       "Name: 0, dtype: object"
      ]
     },
     "execution_count": 106,
     "metadata": {},
     "output_type": "execute_result"
    }
   ],
   "source": [
    "df[0]"
   ]
  },
  {
   "cell_type": "code",
   "execution_count": 68,
   "metadata": {},
   "outputs": [
    {
     "data": {
      "text/html": [
       "<div>\n",
       "<style scoped>\n",
       "    .dataframe tbody tr th:only-of-type {\n",
       "        vertical-align: middle;\n",
       "    }\n",
       "\n",
       "    .dataframe tbody tr th {\n",
       "        vertical-align: top;\n",
       "    }\n",
       "\n",
       "    .dataframe thead th {\n",
       "        text-align: right;\n",
       "    }\n",
       "</style>\n",
       "<table border=\"1\" class=\"dataframe\">\n",
       "  <thead>\n",
       "    <tr style=\"text-align: right;\">\n",
       "      <th></th>\n",
       "      <th>0</th>\n",
       "      <th>1</th>\n",
       "      <th>2</th>\n",
       "      <th>3</th>\n",
       "      <th>4</th>\n",
       "    </tr>\n",
       "  </thead>\n",
       "  <tbody>\n",
       "    <tr>\n",
       "      <th>Unnamed: 0</th>\n",
       "      <td>title</td>\n",
       "      <td>price</td>\n",
       "      <td>area</td>\n",
       "      <td>owner_name</td>\n",
       "      <td>address</td>\n",
       "    </tr>\n",
       "    <tr>\n",
       "      <th>0</th>\n",
       "      <td>['3 BHK Apartment', 'Apartment4 BHK ', 'BHK Ap...</td>\n",
       "      <td>['2.5', '2.25', '11,000', '14,000', '16,000', ...</td>\n",
       "      <td>['2000 ', '3150 ', '1100 ', '1200 ', '1500 ', ...</td>\n",
       "      <td>['Brickhouse Realty Solutions', 'HR Associates...</td>\n",
       "      <td>['Chanakyapuri', 'Chanakyapuri', 'Lokmanya Nag...</td>\n",
       "    </tr>\n",
       "    <tr>\n",
       "      <th>1</th>\n",
       "      <td>['1 BHK Apartment', 'Apartment1 BHK ', 'BHK Ap...</td>\n",
       "      <td>['5,500', '8,000', '19,000', '7,000', '11,000'...</td>\n",
       "      <td>['625 ', '600 ', '1815 ', '1030 ', '1187 ', '9...</td>\n",
       "      <td>['G kumawat', 'shubh', 'Total Realty Solutions...</td>\n",
       "      <td>['Bhicholi Mardana', 'Scheme Number 136', 'Mah...</td>\n",
       "    </tr>\n",
       "    <tr>\n",
       "      <th>2</th>\n",
       "      <td>['2 BHK Apartment', 'Apartment1 BHK ', 'BHK Ap...</td>\n",
       "      <td>['12,000', '11,000', '9,000', '10,000', '5,500...</td>\n",
       "      <td>['1200 ', '1000 ', '950 ', '870 ', '950 ', '52...</td>\n",
       "      <td>['VIVEK', 'navya associat', 'MATOSHREE REALTY'...</td>\n",
       "      <td>['Vijay Nagar', 'Mahalaxmi Nagar Colony', 'Vig...</td>\n",
       "    </tr>\n",
       "    <tr>\n",
       "      <th>3</th>\n",
       "      <td>['2 BHK Apartment', 'Apartment2 BHK ', 'BHK Ap...</td>\n",
       "      <td>['20,000', '7,500', '13,500', '5,500', '5,600'...</td>\n",
       "      <td>['1500 ', '900 ', '1200 ', '950 ', '600 ', '86...</td>\n",
       "      <td>['Virendra Property Consultant', 'Shiwanshu', ...</td>\n",
       "      <td>['Vijay Nagar', 'Manawata Nagar', 'Navlakha', ...</td>\n",
       "    </tr>\n",
       "  </tbody>\n",
       "</table>\n",
       "</div>"
      ],
      "text/plain": [
       "                                                            0  \\\n",
       "Unnamed: 0                                              title   \n",
       "0           ['3 BHK Apartment', 'Apartment4 BHK ', 'BHK Ap...   \n",
       "1           ['1 BHK Apartment', 'Apartment1 BHK ', 'BHK Ap...   \n",
       "2           ['2 BHK Apartment', 'Apartment1 BHK ', 'BHK Ap...   \n",
       "3           ['2 BHK Apartment', 'Apartment2 BHK ', 'BHK Ap...   \n",
       "\n",
       "                                                            1  \\\n",
       "Unnamed: 0                                              price   \n",
       "0           ['2.5', '2.25', '11,000', '14,000', '16,000', ...   \n",
       "1           ['5,500', '8,000', '19,000', '7,000', '11,000'...   \n",
       "2           ['12,000', '11,000', '9,000', '10,000', '5,500...   \n",
       "3           ['20,000', '7,500', '13,500', '5,500', '5,600'...   \n",
       "\n",
       "                                                            2  \\\n",
       "Unnamed: 0                                               area   \n",
       "0           ['2000 ', '3150 ', '1100 ', '1200 ', '1500 ', ...   \n",
       "1           ['625 ', '600 ', '1815 ', '1030 ', '1187 ', '9...   \n",
       "2           ['1200 ', '1000 ', '950 ', '870 ', '950 ', '52...   \n",
       "3           ['1500 ', '900 ', '1200 ', '950 ', '600 ', '86...   \n",
       "\n",
       "                                                            3  \\\n",
       "Unnamed: 0                                         owner_name   \n",
       "0           ['Brickhouse Realty Solutions', 'HR Associates...   \n",
       "1           ['G kumawat', 'shubh', 'Total Realty Solutions...   \n",
       "2           ['VIVEK', 'navya associat', 'MATOSHREE REALTY'...   \n",
       "3           ['Virendra Property Consultant', 'Shiwanshu', ...   \n",
       "\n",
       "                                                            4  \n",
       "Unnamed: 0                                            address  \n",
       "0           ['Chanakyapuri', 'Chanakyapuri', 'Lokmanya Nag...  \n",
       "1           ['Bhicholi Mardana', 'Scheme Number 136', 'Mah...  \n",
       "2           ['Vijay Nagar', 'Mahalaxmi Nagar Colony', 'Vig...  \n",
       "3           ['Vijay Nagar', 'Manawata Nagar', 'Navlakha', ...  "
      ]
     },
     "execution_count": 68,
     "metadata": {},
     "output_type": "execute_result"
    }
   ],
   "source": [
    "new_df"
   ]
  },
  {
   "cell_type": "code",
   "execution_count": 70,
   "metadata": {},
   "outputs": [
    {
     "data": {
      "text/plain": [
       "\"['3 BHK Apartment', 'Apartment4 BHK ', 'BHK Apartment2 ', '2 BHK Apartment', 'Apartment2 BHK ', 'BHK Apartment2 ', '2 BHK Apartment', 'Apartment2 BHK ', 'BHK Apartment1 ', '1 BHK Apartment', 'Apartment2 BHK ', 'BHK Apartment2 ', '2 BHK Apartment', 'Apartment1 BHK ', 'BHK Apartment1 ', '1 BHK Apartment', 'Apartment2 BHK ', 'BHK Apartment2 ', '2 BHK Apartment', 'Apartment1 BHK ', 'BHK Apartment2 ', '2 BHK Apartment', 'Apartment2 BHK ', 'BHK Apartment2 ', '2 BHK Apartment', 'Apartment2 BHK ', 'BHK Apartment2 ', '2 BHK Apartment', 'Apartment3 BHK ']\""
      ]
     },
     "execution_count": 70,
     "metadata": {},
     "output_type": "execute_result"
    }
   ],
   "source": [
    "new_df[0][0]"
   ]
  },
  {
   "cell_type": "code",
   "execution_count": 66,
   "metadata": {},
   "outputs": [],
   "source": [
    "# new_df = pd.DataFrame(list(zip(df[0], df[1], df[2], df[3], df[4])),\n",
    "#                            columns =['Title', 'Price', 'Area', 'Owner_name', 'Address'])          \n",
    "new_df = pd.DataFrame()"
   ]
  },
  {
   "cell_type": "code",
   "execution_count": 36,
   "metadata": {},
   "outputs": [
    {
     "data": {
      "text/plain": [
       "\"['1 BHK Apartment', 'Apartment1 BHK ', 'BHK Apartment3 ', '3 BHK Apartment', 'Apartment2 BHK ', 'BHK Apartment2 ', '2 BHK Apartment', 'Apartment2 BHK ', 'BHK Apartment1 ', '1 BHK Apartment', 'Apartment1 BHK ', 'BHK Apartment1 ', '1 BHK Apartment', 'Apartment2 BHK ', 'BHK Apartment2 ', '2 BHK Apartment', 'Apartment2 BHK ', 'BHK Apartment1 ', '1 BHK Apartment', 'Apartment2 BHK ', 'BHK Apartment3 ', '3 BHK Apartment', 'Apartment2 BHK ', 'BHK Apartment1 ', '1 BHK Apartment', 'Apartment2 BHK ', 'BHK Apartment2 ', '2 BHK Apartment', 'Apartment2 BHK ']\""
      ]
     },
     "execution_count": 36,
     "metadata": {},
     "output_type": "execute_result"
    }
   ],
   "source": [
    "df[0][0]"
   ]
  },
  {
   "cell_type": "code",
   "execution_count": 47,
   "metadata": {},
   "outputs": [
    {
     "data": {
      "text/html": [
       "<div>\n",
       "<style scoped>\n",
       "    .dataframe tbody tr th:only-of-type {\n",
       "        vertical-align: middle;\n",
       "    }\n",
       "\n",
       "    .dataframe tbody tr th {\n",
       "        vertical-align: top;\n",
       "    }\n",
       "\n",
       "    .dataframe thead th {\n",
       "        text-align: right;\n",
       "    }\n",
       "</style>\n",
       "<table border=\"1\" class=\"dataframe\">\n",
       "  <thead>\n",
       "    <tr style=\"text-align: right;\">\n",
       "      <th></th>\n",
       "      <th>Title</th>\n",
       "      <th>Price</th>\n",
       "      <th>Area</th>\n",
       "      <th>Owner_name</th>\n",
       "      <th>Address</th>\n",
       "    </tr>\n",
       "  </thead>\n",
       "  <tbody>\n",
       "    <tr>\n",
       "      <th>0</th>\n",
       "      <td>title</td>\n",
       "      <td>price</td>\n",
       "      <td>area</td>\n",
       "      <td>owner_name</td>\n",
       "      <td>address</td>\n",
       "    </tr>\n",
       "    <tr>\n",
       "      <th>1</th>\n",
       "      <td>['3 BHK Apartment', 'Apartment4 BHK ', 'BHK Ap...</td>\n",
       "      <td>['2.5', '2.25', '11,000', '14,000', '16,000', ...</td>\n",
       "      <td>['2000 ', '3150 ', '1100 ', '1200 ', '1500 ', ...</td>\n",
       "      <td>['Brickhouse Realty Solutions', 'HR Associates...</td>\n",
       "      <td>['Chanakyapuri', 'Chanakyapuri', 'Lokmanya Nag...</td>\n",
       "    </tr>\n",
       "    <tr>\n",
       "      <th>2</th>\n",
       "      <td>['1 BHK Apartment', 'Apartment1 BHK ', 'BHK Ap...</td>\n",
       "      <td>['5,500', '8,000', '19,000', '7,000', '11,000'...</td>\n",
       "      <td>['625 ', '600 ', '1815 ', '1030 ', '1187 ', '9...</td>\n",
       "      <td>['G kumawat', 'shubh', 'Total Realty Solutions...</td>\n",
       "      <td>['Bhicholi Mardana', 'Scheme Number 136', 'Mah...</td>\n",
       "    </tr>\n",
       "    <tr>\n",
       "      <th>3</th>\n",
       "      <td>['2 BHK Apartment', 'Apartment1 BHK ', 'BHK Ap...</td>\n",
       "      <td>['12,000', '11,000', '9,000', '10,000', '5,500...</td>\n",
       "      <td>['1200 ', '1000 ', '950 ', '870 ', '950 ', '52...</td>\n",
       "      <td>['VIVEK', 'navya associat', 'MATOSHREE REALTY'...</td>\n",
       "      <td>['Vijay Nagar', 'Mahalaxmi Nagar Colony', 'Vig...</td>\n",
       "    </tr>\n",
       "    <tr>\n",
       "      <th>4</th>\n",
       "      <td>['2 BHK Apartment', 'Apartment2 BHK ', 'BHK Ap...</td>\n",
       "      <td>['20,000', '7,500', '13,500', '5,500', '5,600'...</td>\n",
       "      <td>['1500 ', '900 ', '1200 ', '950 ', '600 ', '86...</td>\n",
       "      <td>['Virendra Property Consultant', 'Shiwanshu', ...</td>\n",
       "      <td>['Vijay Nagar', 'Manawata Nagar', 'Navlakha', ...</td>\n",
       "    </tr>\n",
       "  </tbody>\n",
       "</table>\n",
       "</div>"
      ],
      "text/plain": [
       "                                               Title  \\\n",
       "0                                              title   \n",
       "1  ['3 BHK Apartment', 'Apartment4 BHK ', 'BHK Ap...   \n",
       "2  ['1 BHK Apartment', 'Apartment1 BHK ', 'BHK Ap...   \n",
       "3  ['2 BHK Apartment', 'Apartment1 BHK ', 'BHK Ap...   \n",
       "4  ['2 BHK Apartment', 'Apartment2 BHK ', 'BHK Ap...   \n",
       "\n",
       "                                               Price  \\\n",
       "0                                              price   \n",
       "1  ['2.5', '2.25', '11,000', '14,000', '16,000', ...   \n",
       "2  ['5,500', '8,000', '19,000', '7,000', '11,000'...   \n",
       "3  ['12,000', '11,000', '9,000', '10,000', '5,500...   \n",
       "4  ['20,000', '7,500', '13,500', '5,500', '5,600'...   \n",
       "\n",
       "                                                Area  \\\n",
       "0                                               area   \n",
       "1  ['2000 ', '3150 ', '1100 ', '1200 ', '1500 ', ...   \n",
       "2  ['625 ', '600 ', '1815 ', '1030 ', '1187 ', '9...   \n",
       "3  ['1200 ', '1000 ', '950 ', '870 ', '950 ', '52...   \n",
       "4  ['1500 ', '900 ', '1200 ', '950 ', '600 ', '86...   \n",
       "\n",
       "                                          Owner_name  \\\n",
       "0                                         owner_name   \n",
       "1  ['Brickhouse Realty Solutions', 'HR Associates...   \n",
       "2  ['G kumawat', 'shubh', 'Total Realty Solutions...   \n",
       "3  ['VIVEK', 'navya associat', 'MATOSHREE REALTY'...   \n",
       "4  ['Virendra Property Consultant', 'Shiwanshu', ...   \n",
       "\n",
       "                                             Address  \n",
       "0                                            address  \n",
       "1  ['Chanakyapuri', 'Chanakyapuri', 'Lokmanya Nag...  \n",
       "2  ['Bhicholi Mardana', 'Scheme Number 136', 'Mah...  \n",
       "3  ['Vijay Nagar', 'Mahalaxmi Nagar Colony', 'Vig...  \n",
       "4  ['Vijay Nagar', 'Manawata Nagar', 'Navlakha', ...  "
      ]
     },
     "execution_count": 47,
     "metadata": {},
     "output_type": "execute_result"
    }
   ],
   "source": [
    "new_df"
   ]
  },
  {
   "cell_type": "code",
   "execution_count": null,
   "metadata": {},
   "outputs": [],
   "source": []
  }
 ],
 "metadata": {
  "kernelspec": {
   "display_name": "Python 3",
   "language": "python",
   "name": "python3"
  },
  "language_info": {
   "codemirror_mode": {
    "name": "ipython",
    "version": 3
   },
   "file_extension": ".py",
   "mimetype": "text/x-python",
   "name": "python",
   "nbconvert_exporter": "python",
   "pygments_lexer": "ipython3",
   "version": "3.7.6"
  }
 },
 "nbformat": 4,
 "nbformat_minor": 4
}
