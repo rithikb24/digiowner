{
 "cells": [
  {
   "cell_type": "code",
   "execution_count": null,
   "metadata": {},
   "outputs": [],
   "source": [
    "# price per sq\n",
    "price = [16000,40000,22000,30000,16000,16800,20000,27000,40000]\n",
    "area = [1500,2600,1624,2200,1500,600,1242,1950,1950]\n",
    "\n",
    "price_per_sqft = []\n",
    "\n",
    "for (i, j) in zip(price, area):\n",
    "    temp = (i/j)\n",
    "    price_per_sqft.append(temp)\n"
   ]
  },
  {
   "cell_type": "code",
   "execution_count": null,
   "metadata": {},
   "outputs": [],
   "source": [
    "sum1 = sum(price_per_sqft)\n",
    "length = len(price_per_sqft)\n",
    "mean = sum1/length\n",
    "print(mean)\n",
    "print(statistics.median(price_per_sqft))\n",
    "print(price_per_sqft.sort())\n",
    "print(price_per_sqft)"
   ]
  }
 ],
 "metadata": {
  "kernelspec": {
   "display_name": "Python 3",
   "language": "python",
   "name": "python3"
  },
  "language_info": {
   "codemirror_mode": {
    "name": "ipython",
    "version": 3
   },
   "file_extension": ".py",
   "mimetype": "text/x-python",
   "name": "python",
   "nbconvert_exporter": "python",
   "pygments_lexer": "ipython3",
   "version": "3.7.6"
  }
 },
 "nbformat": 4,
 "nbformat_minor": 4
}
