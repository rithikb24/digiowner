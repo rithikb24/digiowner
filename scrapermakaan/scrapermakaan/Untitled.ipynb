{
 "cells": [
  {
   "cell_type": "code",
   "execution_count": 1,
   "metadata": {},
   "outputs": [],
   "source": [
    "import pandas as pd"
   ]
  },
  {
   "cell_type": "code",
   "execution_count": 2,
   "metadata": {},
   "outputs": [],
   "source": [
    "df = pd.read_excel('palasia_and_nearby.xlsx')\n"
   ]
  },
  {
   "cell_type": "code",
   "execution_count": 4,
   "metadata": {},
   "outputs": [
    {
     "data": {
      "text/html": [
       "<div>\n",
       "<style scoped>\n",
       "    .dataframe tbody tr th:only-of-type {\n",
       "        vertical-align: middle;\n",
       "    }\n",
       "\n",
       "    .dataframe tbody tr th {\n",
       "        vertical-align: top;\n",
       "    }\n",
       "\n",
       "    .dataframe thead th {\n",
       "        text-align: right;\n",
       "    }\n",
       "</style>\n",
       "<table border=\"1\" class=\"dataframe\">\n",
       "  <thead>\n",
       "    <tr style=\"text-align: right;\">\n",
       "      <th></th>\n",
       "      <th>0</th>\n",
       "      <th>1</th>\n",
       "      <th>2</th>\n",
       "      <th>3</th>\n",
       "      <th>4</th>\n",
       "    </tr>\n",
       "  </thead>\n",
       "  <tbody>\n",
       "    <tr>\n",
       "      <th>Unnamed: 0</th>\n",
       "      <td>title</td>\n",
       "      <td>price</td>\n",
       "      <td>area</td>\n",
       "      <td>owner_name</td>\n",
       "      <td>address</td>\n",
       "    </tr>\n",
       "    <tr>\n",
       "      <th>0</th>\n",
       "      <td>['1 BHK Apartment', 'Apartment2 BHK ', 'BHK Ap...</td>\n",
       "      <td>['12,500', '20,000', '20,000', '12,000', '15,0...</td>\n",
       "      <td>['750 ', '825 ', '1300 ', '1000 ', '800 ', '40...</td>\n",
       "      <td>['Amit', 'jain', 'irfan', 'Neel jain', 'Ravind...</td>\n",
       "      <td>['Palasia', 'Palasia', 'Palasia', 'South Tukog...</td>\n",
       "    </tr>\n",
       "  </tbody>\n",
       "</table>\n",
       "</div>"
      ],
      "text/plain": [
       "                                                            0  \\\n",
       "Unnamed: 0                                              title   \n",
       "0           ['1 BHK Apartment', 'Apartment2 BHK ', 'BHK Ap...   \n",
       "\n",
       "                                                            1  \\\n",
       "Unnamed: 0                                              price   \n",
       "0           ['12,500', '20,000', '20,000', '12,000', '15,0...   \n",
       "\n",
       "                                                            2  \\\n",
       "Unnamed: 0                                               area   \n",
       "0           ['750 ', '825 ', '1300 ', '1000 ', '800 ', '40...   \n",
       "\n",
       "                                                            3  \\\n",
       "Unnamed: 0                                         owner_name   \n",
       "0           ['Amit', 'jain', 'irfan', 'Neel jain', 'Ravind...   \n",
       "\n",
       "                                                            4  \n",
       "Unnamed: 0                                            address  \n",
       "0           ['Palasia', 'Palasia', 'Palasia', 'South Tukog...  "
      ]
     },
     "execution_count": 4,
     "metadata": {},
     "output_type": "execute_result"
    }
   ],
   "source": [
    "df.transpose()"
   ]
  },
  {
   "cell_type": "code",
   "execution_count": 7,
   "metadata": {},
   "outputs": [
    {
     "data": {
      "text/plain": [
       "'['"
      ]
     },
     "execution_count": 7,
     "metadata": {},
     "output_type": "execute_result"
    }
   ],
   "source": []
  },
  {
   "cell_type": "code",
   "execution_count": null,
   "metadata": {},
   "outputs": [],
   "source": []
  }
 ],
 "metadata": {
  "kernelspec": {
   "display_name": "Python 3",
   "language": "python",
   "name": "python3"
  },
  "language_info": {
   "codemirror_mode": {
    "name": "ipython",
    "version": 3
   },
   "file_extension": ".py",
   "mimetype": "text/x-python",
   "name": "python",
   "nbconvert_exporter": "python",
   "pygments_lexer": "ipython3",
   "version": "3.7.6"
  }
 },
 "nbformat": 4,
 "nbformat_minor": 4
}
