{
 "cells": [
  {
   "cell_type": "code",
   "execution_count": 25,
   "metadata": {},
   "outputs": [],
   "source": [
    "import pandas as pd\n"
   ]
  },
  {
   "cell_type": "code",
   "execution_count": 26,
   "metadata": {},
   "outputs": [],
   "source": [
    "df = pd.read_excel('apartment_00.xlsx')"
   ]
  },
  {
   "cell_type": "code",
   "execution_count": 27,
   "metadata": {},
   "outputs": [
    {
     "data": {
      "text/html": [
       "<div>\n",
       "<style scoped>\n",
       "    .dataframe tbody tr th:only-of-type {\n",
       "        vertical-align: middle;\n",
       "    }\n",
       "\n",
       "    .dataframe tbody tr th {\n",
       "        vertical-align: top;\n",
       "    }\n",
       "\n",
       "    .dataframe thead th {\n",
       "        text-align: right;\n",
       "    }\n",
       "</style>\n",
       "<table border=\"1\" class=\"dataframe\">\n",
       "  <thead>\n",
       "    <tr style=\"text-align: right;\">\n",
       "      <th></th>\n",
       "      <th>Unnamed: 0</th>\n",
       "      <th>0</th>\n",
       "      <th>1</th>\n",
       "      <th>2</th>\n",
       "      <th>3</th>\n",
       "    </tr>\n",
       "  </thead>\n",
       "  <tbody>\n",
       "    <tr>\n",
       "      <th>0</th>\n",
       "      <td>title</td>\n",
       "      <td>['3 BHK Apartment', 'Apartment4 BHK ', 'BHK Ap...</td>\n",
       "      <td>['1 BHK Apartment', 'Apartment1 BHK ', 'BHK Ap...</td>\n",
       "      <td>['2 BHK Apartment', 'Apartment1 BHK ', 'BHK Ap...</td>\n",
       "      <td>['2 BHK Apartment', 'Apartment2 BHK ', 'BHK Ap...</td>\n",
       "    </tr>\n",
       "    <tr>\n",
       "      <th>1</th>\n",
       "      <td>price</td>\n",
       "      <td>['2.5', '2.25', '11,000', '14,000', '16,000', ...</td>\n",
       "      <td>['5,500', '8,000', '19,000', '7,000', '11,000'...</td>\n",
       "      <td>['12,000', '11,000', '9,000', '10,000', '5,500...</td>\n",
       "      <td>['20,000', '7,500', '13,500', '5,500', '5,600'...</td>\n",
       "    </tr>\n",
       "    <tr>\n",
       "      <th>2</th>\n",
       "      <td>area</td>\n",
       "      <td>['2000 ', '3150 ', '1100 ', '1200 ', '1500 ', ...</td>\n",
       "      <td>['625 ', '600 ', '1815 ', '1030 ', '1187 ', '9...</td>\n",
       "      <td>['1200 ', '1000 ', '950 ', '870 ', '950 ', '52...</td>\n",
       "      <td>['1500 ', '900 ', '1200 ', '950 ', '600 ', '86...</td>\n",
       "    </tr>\n",
       "    <tr>\n",
       "      <th>3</th>\n",
       "      <td>owner_name</td>\n",
       "      <td>['Brickhouse Realty Solutions', 'HR Associates...</td>\n",
       "      <td>['G kumawat', 'shubh', 'Total Realty Solutions...</td>\n",
       "      <td>['VIVEK', 'navya associat', 'MATOSHREE REALTY'...</td>\n",
       "      <td>['Virendra Property Consultant', 'Shiwanshu', ...</td>\n",
       "    </tr>\n",
       "    <tr>\n",
       "      <th>4</th>\n",
       "      <td>address</td>\n",
       "      <td>['Chanakyapuri', 'Chanakyapuri', 'Lokmanya Nag...</td>\n",
       "      <td>['Bhicholi Mardana', 'Scheme Number 136', 'Mah...</td>\n",
       "      <td>['Vijay Nagar', 'Mahalaxmi Nagar Colony', 'Vig...</td>\n",
       "      <td>['Vijay Nagar', 'Manawata Nagar', 'Navlakha', ...</td>\n",
       "    </tr>\n",
       "  </tbody>\n",
       "</table>\n",
       "</div>"
      ],
      "text/plain": [
       "   Unnamed: 0                                                  0  \\\n",
       "0       title  ['3 BHK Apartment', 'Apartment4 BHK ', 'BHK Ap...   \n",
       "1       price  ['2.5', '2.25', '11,000', '14,000', '16,000', ...   \n",
       "2        area  ['2000 ', '3150 ', '1100 ', '1200 ', '1500 ', ...   \n",
       "3  owner_name  ['Brickhouse Realty Solutions', 'HR Associates...   \n",
       "4     address  ['Chanakyapuri', 'Chanakyapuri', 'Lokmanya Nag...   \n",
       "\n",
       "                                                   1  \\\n",
       "0  ['1 BHK Apartment', 'Apartment1 BHK ', 'BHK Ap...   \n",
       "1  ['5,500', '8,000', '19,000', '7,000', '11,000'...   \n",
       "2  ['625 ', '600 ', '1815 ', '1030 ', '1187 ', '9...   \n",
       "3  ['G kumawat', 'shubh', 'Total Realty Solutions...   \n",
       "4  ['Bhicholi Mardana', 'Scheme Number 136', 'Mah...   \n",
       "\n",
       "                                                   2  \\\n",
       "0  ['2 BHK Apartment', 'Apartment1 BHK ', 'BHK Ap...   \n",
       "1  ['12,000', '11,000', '9,000', '10,000', '5,500...   \n",
       "2  ['1200 ', '1000 ', '950 ', '870 ', '950 ', '52...   \n",
       "3  ['VIVEK', 'navya associat', 'MATOSHREE REALTY'...   \n",
       "4  ['Vijay Nagar', 'Mahalaxmi Nagar Colony', 'Vig...   \n",
       "\n",
       "                                                   3  \n",
       "0  ['2 BHK Apartment', 'Apartment2 BHK ', 'BHK Ap...  \n",
       "1  ['20,000', '7,500', '13,500', '5,500', '5,600'...  \n",
       "2  ['1500 ', '900 ', '1200 ', '950 ', '600 ', '86...  \n",
       "3  ['Virendra Property Consultant', 'Shiwanshu', ...  \n",
       "4  ['Vijay Nagar', 'Manawata Nagar', 'Navlakha', ...  "
      ]
     },
     "execution_count": 27,
     "metadata": {},
     "output_type": "execute_result"
    }
   ],
   "source": [
    "df.head()"
   ]
  },
  {
   "cell_type": "code",
   "execution_count": 28,
   "metadata": {},
   "outputs": [
    {
     "data": {
      "text/plain": [
       "Index(['Unnamed: 0', 0, 1, 2, 3], dtype='object')"
      ]
     },
     "execution_count": 28,
     "metadata": {},
     "output_type": "execute_result"
    }
   ],
   "source": [
    "df.columns"
   ]
  },
  {
   "cell_type": "code",
   "execution_count": 29,
   "metadata": {},
   "outputs": [],
   "source": [
    "df = df.transpose()"
   ]
  },
  {
   "cell_type": "code",
   "execution_count": 30,
   "metadata": {},
   "outputs": [
    {
     "data": {
      "text/html": [
       "<div>\n",
       "<style scoped>\n",
       "    .dataframe tbody tr th:only-of-type {\n",
       "        vertical-align: middle;\n",
       "    }\n",
       "\n",
       "    .dataframe tbody tr th {\n",
       "        vertical-align: top;\n",
       "    }\n",
       "\n",
       "    .dataframe thead th {\n",
       "        text-align: right;\n",
       "    }\n",
       "</style>\n",
       "<table border=\"1\" class=\"dataframe\">\n",
       "  <thead>\n",
       "    <tr style=\"text-align: right;\">\n",
       "      <th></th>\n",
       "      <th>0</th>\n",
       "      <th>1</th>\n",
       "      <th>2</th>\n",
       "      <th>3</th>\n",
       "      <th>4</th>\n",
       "    </tr>\n",
       "  </thead>\n",
       "  <tbody>\n",
       "    <tr>\n",
       "      <th>Unnamed: 0</th>\n",
       "      <td>title</td>\n",
       "      <td>price</td>\n",
       "      <td>area</td>\n",
       "      <td>owner_name</td>\n",
       "      <td>address</td>\n",
       "    </tr>\n",
       "    <tr>\n",
       "      <th>0</th>\n",
       "      <td>['3 BHK Apartment', 'Apartment4 BHK ', 'BHK Ap...</td>\n",
       "      <td>['2.5', '2.25', '11,000', '14,000', '16,000', ...</td>\n",
       "      <td>['2000 ', '3150 ', '1100 ', '1200 ', '1500 ', ...</td>\n",
       "      <td>['Brickhouse Realty Solutions', 'HR Associates...</td>\n",
       "      <td>['Chanakyapuri', 'Chanakyapuri', 'Lokmanya Nag...</td>\n",
       "    </tr>\n",
       "    <tr>\n",
       "      <th>1</th>\n",
       "      <td>['1 BHK Apartment', 'Apartment1 BHK ', 'BHK Ap...</td>\n",
       "      <td>['5,500', '8,000', '19,000', '7,000', '11,000'...</td>\n",
       "      <td>['625 ', '600 ', '1815 ', '1030 ', '1187 ', '9...</td>\n",
       "      <td>['G kumawat', 'shubh', 'Total Realty Solutions...</td>\n",
       "      <td>['Bhicholi Mardana', 'Scheme Number 136', 'Mah...</td>\n",
       "    </tr>\n",
       "    <tr>\n",
       "      <th>2</th>\n",
       "      <td>['2 BHK Apartment', 'Apartment1 BHK ', 'BHK Ap...</td>\n",
       "      <td>['12,000', '11,000', '9,000', '10,000', '5,500...</td>\n",
       "      <td>['1200 ', '1000 ', '950 ', '870 ', '950 ', '52...</td>\n",
       "      <td>['VIVEK', 'navya associat', 'MATOSHREE REALTY'...</td>\n",
       "      <td>['Vijay Nagar', 'Mahalaxmi Nagar Colony', 'Vig...</td>\n",
       "    </tr>\n",
       "    <tr>\n",
       "      <th>3</th>\n",
       "      <td>['2 BHK Apartment', 'Apartment2 BHK ', 'BHK Ap...</td>\n",
       "      <td>['20,000', '7,500', '13,500', '5,500', '5,600'...</td>\n",
       "      <td>['1500 ', '900 ', '1200 ', '950 ', '600 ', '86...</td>\n",
       "      <td>['Virendra Property Consultant', 'Shiwanshu', ...</td>\n",
       "      <td>['Vijay Nagar', 'Manawata Nagar', 'Navlakha', ...</td>\n",
       "    </tr>\n",
       "  </tbody>\n",
       "</table>\n",
       "</div>"
      ],
      "text/plain": [
       "                                                            0  \\\n",
       "Unnamed: 0                                              title   \n",
       "0           ['3 BHK Apartment', 'Apartment4 BHK ', 'BHK Ap...   \n",
       "1           ['1 BHK Apartment', 'Apartment1 BHK ', 'BHK Ap...   \n",
       "2           ['2 BHK Apartment', 'Apartment1 BHK ', 'BHK Ap...   \n",
       "3           ['2 BHK Apartment', 'Apartment2 BHK ', 'BHK Ap...   \n",
       "\n",
       "                                                            1  \\\n",
       "Unnamed: 0                                              price   \n",
       "0           ['2.5', '2.25', '11,000', '14,000', '16,000', ...   \n",
       "1           ['5,500', '8,000', '19,000', '7,000', '11,000'...   \n",
       "2           ['12,000', '11,000', '9,000', '10,000', '5,500...   \n",
       "3           ['20,000', '7,500', '13,500', '5,500', '5,600'...   \n",
       "\n",
       "                                                            2  \\\n",
       "Unnamed: 0                                               area   \n",
       "0           ['2000 ', '3150 ', '1100 ', '1200 ', '1500 ', ...   \n",
       "1           ['625 ', '600 ', '1815 ', '1030 ', '1187 ', '9...   \n",
       "2           ['1200 ', '1000 ', '950 ', '870 ', '950 ', '52...   \n",
       "3           ['1500 ', '900 ', '1200 ', '950 ', '600 ', '86...   \n",
       "\n",
       "                                                            3  \\\n",
       "Unnamed: 0                                         owner_name   \n",
       "0           ['Brickhouse Realty Solutions', 'HR Associates...   \n",
       "1           ['G kumawat', 'shubh', 'Total Realty Solutions...   \n",
       "2           ['VIVEK', 'navya associat', 'MATOSHREE REALTY'...   \n",
       "3           ['Virendra Property Consultant', 'Shiwanshu', ...   \n",
       "\n",
       "                                                            4  \n",
       "Unnamed: 0                                            address  \n",
       "0           ['Chanakyapuri', 'Chanakyapuri', 'Lokmanya Nag...  \n",
       "1           ['Bhicholi Mardana', 'Scheme Number 136', 'Mah...  \n",
       "2           ['Vijay Nagar', 'Mahalaxmi Nagar Colony', 'Vig...  \n",
       "3           ['Vijay Nagar', 'Manawata Nagar', 'Navlakha', ...  "
      ]
     },
     "execution_count": 30,
     "metadata": {},
     "output_type": "execute_result"
    }
   ],
   "source": [
    "df.head()"
   ]
  },
  {
   "cell_type": "code",
   "execution_count": 188,
   "metadata": {},
   "outputs": [],
   "source": [
    "Title, Price, Area, Owner_name, Address = [],[],[],[],[]"
   ]
  },
  {
   "cell_type": "code",
   "execution_count": 189,
   "metadata": {},
   "outputs": [],
   "source": [
    "for i in range(1): \n",
    "    for j in range(4): \n",
    "        Title.append(df[i][j])\n",
    "\n",
    "for i in range(1,2): \n",
    "    for j in range(4): \n",
    "        Price.append(df[i][j])\n",
    "        \n",
    "\n",
    "for i in range(2,3): \n",
    "    for j in range(4): \n",
    "        Area.append(df[i][j])\n",
    "\n",
    "for i in range(3,4): \n",
    "    for j in range(4): \n",
    "        Owner_name.append(df[i][j])\n",
    "\n",
    "for i in range(4,5): \n",
    "    for j in range(4): \n",
    "        Address.append(df[i][j])\n"
   ]
  },
  {
   "cell_type": "code",
   "execution_count": 208,
   "metadata": {},
   "outputs": [
    {
     "data": {
      "text/plain": [
       "[\"['Chanakyapuri', 'Chanakyapuri', 'Lokmanya Nagar', 'Saket Nagar', 'Near bombay hospital', 'Anand Bazar', 'AB Bypass Road', 'Silicon City', 'Khandwa road', 'Scheme No 136', 'Mahalakshmi Nagar', 'Robot Signal', 'Bhawarkuan Road', 'Khandwa Indore Road', 'Bengali Square', 'Bicholi Mardana Road', 'Vijay Nagar', 'Rajendra Nagar', 'MR 9 Road', 'Bhicholi Mardana']\",\n",
       " \"['Bhicholi Mardana', 'Scheme Number 136', 'Mahalakshmi Nagar', 'Manglia', 'Sukliya', 'Vijay Nagar', 'AB Bypass Road', 'Vijay Nagar Main', 'Ekta Nagar', 'Bhicholi Mardana', 'Rau', 'Saket', 'Khajrana', 'Vijay Nagar', 'RRCAT', 'Annapurna road', 'Mahalakshmi Nagar', 'Bhicholi Mardana', 'Vijay Nagar', 'scheme no 78']\",\n",
       " \"['Vijay Nagar', 'Mahalaxmi Nagar Colony', 'Vigyan Nagar Indore', 'Vijay Nagar', 'Bhicholi Mardana', 'aurbindo hospital ujjain road', 'Bhicholi Mardana', 'Limbodi', 'R a c e Course Road', 'Gamle Wale Puliya Indore', 'Nipania', 'Mahalaxmi Nagar Colony', 'Mahalakshmi Nagar', 'Manglia', 'AB Bypass Road', 'Palasia', 'AB Bypass Road', 'Vijay Nagar', 'Vijay Nagar', 'Vijay Nagar']\",\n",
       " \"['Vijay Nagar', 'Manawata Nagar', 'Navlakha', 'AB Bypass Road', 'Limbodi', 'AB Bypass Road', 'Goyal Nagar', 'Indore Khandwa Road', 'Vijay Nagar Main', 'Vijay Nagar', 'Jakhya', 'Nipania', 'Mahalakshmi Nagar', 'Shri Nagar', 'Rau', 'Bhicholi Mardana', 'Bhicholi Mardana', 'Silicon City', 'Bhicholi Mardana', 'Geeta bhavan']\"]"
      ]
     },
     "execution_count": 208,
     "metadata": {},
     "output_type": "execute_result"
    }
   ],
   "source": [
    "Address"
   ]
  },
  {
   "cell_type": "code",
   "execution_count": 191,
   "metadata": {},
   "outputs": [],
   "source": [
    "new_df = pd.DataFrame()"
   ]
  },
  {
   "cell_type": "code",
   "execution_count": 192,
   "metadata": {},
   "outputs": [
    {
     "data": {
      "text/html": [
       "<div>\n",
       "<style scoped>\n",
       "    .dataframe tbody tr th:only-of-type {\n",
       "        vertical-align: middle;\n",
       "    }\n",
       "\n",
       "    .dataframe tbody tr th {\n",
       "        vertical-align: top;\n",
       "    }\n",
       "\n",
       "    .dataframe thead th {\n",
       "        text-align: right;\n",
       "    }\n",
       "</style>\n",
       "<table border=\"1\" class=\"dataframe\">\n",
       "  <thead>\n",
       "    <tr style=\"text-align: right;\">\n",
       "      <th></th>\n",
       "    </tr>\n",
       "  </thead>\n",
       "  <tbody>\n",
       "  </tbody>\n",
       "</table>\n",
       "</div>"
      ],
      "text/plain": [
       "Empty DataFrame\n",
       "Columns: []\n",
       "Index: []"
      ]
     },
     "execution_count": 192,
     "metadata": {},
     "output_type": "execute_result"
    }
   ],
   "source": [
    "new_df"
   ]
  },
  {
   "cell_type": "code",
   "execution_count": 206,
   "metadata": {},
   "outputs": [],
   "source": [
    "for i in range(len(df.columns)):\n",
    "    new_df['Title'] = Title[0][0]\n"
   ]
  },
  {
   "cell_type": "code",
   "execution_count": 183,
   "metadata": {},
   "outputs": [],
   "source": [
    "new_df['Title'] = Title[0]"
   ]
  },
  {
   "cell_type": "code",
   "execution_count": 217,
   "metadata": {},
   "outputs": [
    {
     "data": {
      "text/plain": [
       "'3'"
      ]
     },
     "execution_count": 217,
     "metadata": {},
     "output_type": "execute_result"
    }
   ],
   "source": [
    "Title[0][:][2]"
   ]
  },
  {
   "cell_type": "code",
   "execution_count": 209,
   "metadata": {},
   "outputs": [],
   "source": [
    "df1 = pd.DataFrame([Title, Price, Area, Owner_name, Address], columns = [\"a\", \"b\", \"c\", \"d\"])"
   ]
  },
  {
   "cell_type": "code",
   "execution_count": 211,
   "metadata": {},
   "outputs": [],
   "source": [
    "df1 = df1.transpose()"
   ]
  },
  {
   "cell_type": "code",
   "execution_count": 212,
   "metadata": {},
   "outputs": [
    {
     "data": {
      "text/html": [
       "<div>\n",
       "<style scoped>\n",
       "    .dataframe tbody tr th:only-of-type {\n",
       "        vertical-align: middle;\n",
       "    }\n",
       "\n",
       "    .dataframe tbody tr th {\n",
       "        vertical-align: top;\n",
       "    }\n",
       "\n",
       "    .dataframe thead th {\n",
       "        text-align: right;\n",
       "    }\n",
       "</style>\n",
       "<table border=\"1\" class=\"dataframe\">\n",
       "  <thead>\n",
       "    <tr style=\"text-align: right;\">\n",
       "      <th></th>\n",
       "      <th>0</th>\n",
       "      <th>1</th>\n",
       "      <th>2</th>\n",
       "      <th>3</th>\n",
       "      <th>4</th>\n",
       "    </tr>\n",
       "  </thead>\n",
       "  <tbody>\n",
       "    <tr>\n",
       "      <th>a</th>\n",
       "      <td>['3 BHK Apartment', 'Apartment4 BHK ', 'BHK Ap...</td>\n",
       "      <td>['2.5', '2.25', '11,000', '14,000', '16,000', ...</td>\n",
       "      <td>['2000 ', '3150 ', '1100 ', '1200 ', '1500 ', ...</td>\n",
       "      <td>['Brickhouse Realty Solutions', 'HR Associates...</td>\n",
       "      <td>['Chanakyapuri', 'Chanakyapuri', 'Lokmanya Nag...</td>\n",
       "    </tr>\n",
       "    <tr>\n",
       "      <th>b</th>\n",
       "      <td>['1 BHK Apartment', 'Apartment1 BHK ', 'BHK Ap...</td>\n",
       "      <td>['5,500', '8,000', '19,000', '7,000', '11,000'...</td>\n",
       "      <td>['625 ', '600 ', '1815 ', '1030 ', '1187 ', '9...</td>\n",
       "      <td>['G kumawat', 'shubh', 'Total Realty Solutions...</td>\n",
       "      <td>['Bhicholi Mardana', 'Scheme Number 136', 'Mah...</td>\n",
       "    </tr>\n",
       "    <tr>\n",
       "      <th>c</th>\n",
       "      <td>['2 BHK Apartment', 'Apartment1 BHK ', 'BHK Ap...</td>\n",
       "      <td>['12,000', '11,000', '9,000', '10,000', '5,500...</td>\n",
       "      <td>['1200 ', '1000 ', '950 ', '870 ', '950 ', '52...</td>\n",
       "      <td>['VIVEK', 'navya associat', 'MATOSHREE REALTY'...</td>\n",
       "      <td>['Vijay Nagar', 'Mahalaxmi Nagar Colony', 'Vig...</td>\n",
       "    </tr>\n",
       "    <tr>\n",
       "      <th>d</th>\n",
       "      <td>['2 BHK Apartment', 'Apartment2 BHK ', 'BHK Ap...</td>\n",
       "      <td>['20,000', '7,500', '13,500', '5,500', '5,600'...</td>\n",
       "      <td>['1500 ', '900 ', '1200 ', '950 ', '600 ', '86...</td>\n",
       "      <td>['Virendra Property Consultant', 'Shiwanshu', ...</td>\n",
       "      <td>['Vijay Nagar', 'Manawata Nagar', 'Navlakha', ...</td>\n",
       "    </tr>\n",
       "  </tbody>\n",
       "</table>\n",
       "</div>"
      ],
      "text/plain": [
       "                                                   0  \\\n",
       "a  ['3 BHK Apartment', 'Apartment4 BHK ', 'BHK Ap...   \n",
       "b  ['1 BHK Apartment', 'Apartment1 BHK ', 'BHK Ap...   \n",
       "c  ['2 BHK Apartment', 'Apartment1 BHK ', 'BHK Ap...   \n",
       "d  ['2 BHK Apartment', 'Apartment2 BHK ', 'BHK Ap...   \n",
       "\n",
       "                                                   1  \\\n",
       "a  ['2.5', '2.25', '11,000', '14,000', '16,000', ...   \n",
       "b  ['5,500', '8,000', '19,000', '7,000', '11,000'...   \n",
       "c  ['12,000', '11,000', '9,000', '10,000', '5,500...   \n",
       "d  ['20,000', '7,500', '13,500', '5,500', '5,600'...   \n",
       "\n",
       "                                                   2  \\\n",
       "a  ['2000 ', '3150 ', '1100 ', '1200 ', '1500 ', ...   \n",
       "b  ['625 ', '600 ', '1815 ', '1030 ', '1187 ', '9...   \n",
       "c  ['1200 ', '1000 ', '950 ', '870 ', '950 ', '52...   \n",
       "d  ['1500 ', '900 ', '1200 ', '950 ', '600 ', '86...   \n",
       "\n",
       "                                                   3  \\\n",
       "a  ['Brickhouse Realty Solutions', 'HR Associates...   \n",
       "b  ['G kumawat', 'shubh', 'Total Realty Solutions...   \n",
       "c  ['VIVEK', 'navya associat', 'MATOSHREE REALTY'...   \n",
       "d  ['Virendra Property Consultant', 'Shiwanshu', ...   \n",
       "\n",
       "                                                   4  \n",
       "a  ['Chanakyapuri', 'Chanakyapuri', 'Lokmanya Nag...  \n",
       "b  ['Bhicholi Mardana', 'Scheme Number 136', 'Mah...  \n",
       "c  ['Vijay Nagar', 'Mahalaxmi Nagar Colony', 'Vig...  \n",
       "d  ['Vijay Nagar', 'Manawata Nagar', 'Navlakha', ...  "
      ]
     },
     "execution_count": 212,
     "metadata": {},
     "output_type": "execute_result"
    }
   ],
   "source": [
    "df1"
   ]
  },
  {
   "cell_type": "code",
   "execution_count": null,
   "metadata": {},
   "outputs": [],
   "source": []
  }
 ],
 "metadata": {
  "kernelspec": {
   "display_name": "Python 3",
   "language": "python",
   "name": "python3"
  },
  "language_info": {
   "codemirror_mode": {
    "name": "ipython",
    "version": 3
   },
   "file_extension": ".py",
   "mimetype": "text/x-python",
   "name": "python",
   "nbconvert_exporter": "python",
   "pygments_lexer": "ipython3",
   "version": "3.7.6"
  }
 },
 "nbformat": 4,
 "nbformat_minor": 4
}
